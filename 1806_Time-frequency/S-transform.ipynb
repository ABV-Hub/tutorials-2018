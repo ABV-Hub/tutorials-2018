{
 "cells": [
  {
   "cell_type": "markdown",
   "metadata": {},
   "source": [
    "# S-transform\n",
    "\n",
    "The S-transform uses variable sized windows with the sliding window concept of the STFT to produce a result somewhere between the frequency-domain Fourier transform result and the scale-domain wavelet transform. \n",
    "\n",
    "The [PyGFT library](https://github.com/robince/fst-uofc) from the University of Calgary is a fast implementation. You have to install it by cloning the repository, then changing into that directory and typing `python seup.py install`. \n",
    "\n",
    "It depends on the fftw library, which you can install [from source](http://www.fftw.org/download.html) or in your current environment with:\n",
    "\n",
    "    conda install fftw\n",
    "    \n",
    "If you use `conda` to install it, you'll need to add the path to your environment's `include` directory to the `include_dirs` parameter in `fst-uofc/setup.py`. "
   ]
  },
  {
   "cell_type": "code",
   "execution_count": 2,
   "metadata": {
    "collapsed": true
   },
   "outputs": [],
   "source": [
    "import PyGFT"
   ]
  },
  {
   "cell_type": "code",
   "execution_count": null,
   "metadata": {
    "collapsed": true
   },
   "outputs": [],
   "source": []
  }
 ],
 "metadata": {
  "kernelspec": {
   "display_name": "Python [conda env:geocomp]",
   "language": "python",
   "name": "conda-env-geocomp-py"
  },
  "language_info": {
   "codemirror_mode": {
    "name": "ipython",
    "version": 3
   },
   "file_extension": ".py",
   "mimetype": "text/x-python",
   "name": "python",
   "nbconvert_exporter": "python",
   "pygments_lexer": "ipython3",
   "version": "3.6.3"
  }
 },
 "nbformat": 4,
 "nbformat_minor": 2
}
